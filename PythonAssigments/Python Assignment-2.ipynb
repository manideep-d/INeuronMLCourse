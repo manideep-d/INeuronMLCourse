{
 "cells": [
  {
   "cell_type": "markdown",
   "id": "naval-valley",
   "metadata": {},
   "source": [
    "# Answer for Question 1"
   ]
  },
  {
   "cell_type": "code",
   "execution_count": 25,
   "id": "impressed-given",
   "metadata": {},
   "outputs": [],
   "source": [
    "def pattern():\n",
    "    for i in range(1,6):\n",
    "        for j in range(i):\n",
    "            print('*',end=\"\")\n",
    "        print(\"\\r\")\n",
    "    for i in range(4,0,-1):\n",
    "        for j in range(i):\n",
    "            print('*',end=\"\")\n",
    "        print(\"\\r\")"
   ]
  },
  {
   "cell_type": "code",
   "execution_count": 26,
   "id": "foreign-vaccine",
   "metadata": {},
   "outputs": [
    {
     "name": "stdout",
     "output_type": "stream",
     "text": [
      "*\r\n",
      "**\r\n",
      "***\r\n",
      "****\r\n",
      "*****\r\n",
      "****\r\n",
      "***\r\n",
      "**\r\n",
      "*\r\n"
     ]
    }
   ],
   "source": [
    "pattern()"
   ]
  },
  {
   "cell_type": "markdown",
   "id": "swiss-recruitment",
   "metadata": {},
   "source": [
    "# Answer for Question 2"
   ]
  },
  {
   "cell_type": "code",
   "execution_count": 42,
   "id": "dominican-motor",
   "metadata": {},
   "outputs": [],
   "source": [
    "def reverseOfWord(word):\n",
    "    reversed_word = \"\"\n",
    "    for i in word:\n",
    "        reversed_word = i + reversed_word\n",
    "    return reversed_word"
   ]
  },
  {
   "cell_type": "code",
   "execution_count": 43,
   "id": "general-variation",
   "metadata": {},
   "outputs": [
    {
     "name": "stdout",
     "output_type": "stream",
     "text": [
      "Enter a word to be reversedSample\n",
      "After is reversing is elpmaS\n"
     ]
    }
   ],
   "source": [
    "word = input('Enter a word to be reversed')\n",
    "reversed_word = reverseOfWord(word)\n",
    "print(\"After is reversing is\",reversed_word)"
   ]
  },
  {
   "cell_type": "code",
   "execution_count": null,
   "id": "reflected-principle",
   "metadata": {},
   "outputs": [],
   "source": []
  }
 ],
 "metadata": {
  "kernelspec": {
   "display_name": "Python 3",
   "language": "python",
   "name": "python3"
  },
  "language_info": {
   "codemirror_mode": {
    "name": "ipython",
    "version": 3
   },
   "file_extension": ".py",
   "mimetype": "text/x-python",
   "name": "python",
   "nbconvert_exporter": "python",
   "pygments_lexer": "ipython3",
   "version": "3.8.5"
  },
  "latex_envs": {
   "LaTeX_envs_menu_present": true,
   "autoclose": false,
   "autocomplete": true,
   "bibliofile": "biblio.bib",
   "cite_by": "apalike",
   "current_citInitial": 1,
   "eqLabelWithNumbers": true,
   "eqNumInitial": 1,
   "hotkeys": {
    "equation": "Ctrl-E",
    "itemize": "Ctrl-I"
   },
   "labels_anchors": false,
   "latex_user_defs": false,
   "report_style_numbering": false,
   "user_envs_cfg": false
  }
 },
 "nbformat": 4,
 "nbformat_minor": 5
}
