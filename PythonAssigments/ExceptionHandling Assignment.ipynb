{
 "cells": [
  {
   "cell_type": "markdown",
   "id": "equipped-jerusalem",
   "metadata": {},
   "source": [
    "# Answer for Question 1\n",
    "\n",
    "Write a function to compute 5/0 and use try/except to catch the exceptions."
   ]
  },
  {
   "cell_type": "code",
   "execution_count": 8,
   "id": "intelligent-coffee",
   "metadata": {},
   "outputs": [],
   "source": [
    "def exceptionHandling():\n",
    "    try:\n",
    "        x = 5/0\n",
    "        print(x)\n",
    "    except Exception as e:\n",
    "        print('Division is not possible because of error:-',e)"
   ]
  },
  {
   "cell_type": "code",
   "execution_count": 9,
   "id": "severe-castle",
   "metadata": {},
   "outputs": [
    {
     "name": "stdout",
     "output_type": "stream",
     "text": [
      "Division is not possible because of error:- division by zero\n"
     ]
    }
   ],
   "source": [
    "exceptionHandling()"
   ]
  },
  {
   "cell_type": "markdown",
   "id": "connected-message",
   "metadata": {},
   "source": [
    "# Answer for Question 2\n",
    "\n",
    "Implement a Python program to generate all sentences where subject is in\n",
    "[\"Americans\", \"Indians\"] and verb is in [\"Play\", \"watch\"] and the object is in\n",
    "[\"Baseball\",\"cricket\"]."
   ]
  },
  {
   "cell_type": "code",
   "execution_count": 15,
   "id": "palestinian-battle",
   "metadata": {},
   "outputs": [],
   "source": [
    "def generatingSentence():\n",
    "    subjects=[\"Americans \",\"Indians\"]\n",
    "    verbs=[\"play\",\"watch\"]\n",
    "    objects=[\"Baseball\",\"Cricket\"]\n",
    "    \n",
    "    try:\n",
    "        for sub in subjects:\n",
    "            for verb in verbs:\n",
    "                for obj in objects:\n",
    "                    sentence = sub+' '+verb+' '+obj\n",
    "                    print(sentence)\n",
    "                    \n",
    "    except Exception as e:\n",
    "        print('Sentence formation is not possible because of',+e)"
   ]
  },
  {
   "cell_type": "code",
   "execution_count": 16,
   "id": "phantom-slovak",
   "metadata": {},
   "outputs": [
    {
     "name": "stdout",
     "output_type": "stream",
     "text": [
      "Americans  play Baseball\n",
      "Americans  play Cricket\n",
      "Americans  watch Baseball\n",
      "Americans  watch Cricket\n",
      "Indians play Baseball\n",
      "Indians play Cricket\n",
      "Indians watch Baseball\n",
      "Indians watch Cricket\n"
     ]
    }
   ],
   "source": [
    "generatingSentence()"
   ]
  },
  {
   "cell_type": "code",
   "execution_count": null,
   "id": "measured-century",
   "metadata": {},
   "outputs": [],
   "source": []
  },
  {
   "cell_type": "code",
   "execution_count": null,
   "id": "changed-pride",
   "metadata": {},
   "outputs": [],
   "source": []
  }
 ],
 "metadata": {
  "kernelspec": {
   "display_name": "Python 3",
   "language": "python",
   "name": "python3"
  },
  "language_info": {
   "codemirror_mode": {
    "name": "ipython",
    "version": 3
   },
   "file_extension": ".py",
   "mimetype": "text/x-python",
   "name": "python",
   "nbconvert_exporter": "python",
   "pygments_lexer": "ipython3",
   "version": "3.8.5"
  },
  "latex_envs": {
   "LaTeX_envs_menu_present": true,
   "autoclose": false,
   "autocomplete": true,
   "bibliofile": "biblio.bib",
   "cite_by": "apalike",
   "current_citInitial": 1,
   "eqLabelWithNumbers": true,
   "eqNumInitial": 1,
   "hotkeys": {
    "equation": "Ctrl-E",
    "itemize": "Ctrl-I"
   },
   "labels_anchors": false,
   "latex_user_defs": false,
   "report_style_numbering": false,
   "user_envs_cfg": false
  }
 },
 "nbformat": 4,
 "nbformat_minor": 5
}
