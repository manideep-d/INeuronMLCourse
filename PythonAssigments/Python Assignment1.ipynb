{
 "cells": [
  {
   "cell_type": "markdown",
   "id": "engaging-aquatic",
   "metadata": {},
   "source": [
    "# Answer for Question 1  \n",
    "\n"
   ]
  },
  {
   "cell_type": "code",
   "execution_count": 30,
   "id": "superior-louis",
   "metadata": {},
   "outputs": [],
   "source": [
    "def divisibleBy7():\n",
    "    list_of_num =[]\n",
    "    for i in range(2000,3201):\n",
    "        if (i%7 == 0 and i%5 != 0):\n",
    "            list_of_num.append(i)\n",
    "    print(list_of_num)\n",
    "            \n",
    "        "
   ]
  },
  {
   "cell_type": "code",
   "execution_count": 31,
   "id": "proof-commerce",
   "metadata": {},
   "outputs": [
    {
     "name": "stdout",
     "output_type": "stream",
     "text": [
      "[2002, 2009, 2016, 2023, 2037, 2044, 2051, 2058, 2072, 2079, 2086, 2093, 2107, 2114, 2121, 2128, 2142, 2149, 2156, 2163, 2177, 2184, 2191, 2198, 2212, 2219, 2226, 2233, 2247, 2254, 2261, 2268, 2282, 2289, 2296, 2303, 2317, 2324, 2331, 2338, 2352, 2359, 2366, 2373, 2387, 2394, 2401, 2408, 2422, 2429, 2436, 2443, 2457, 2464, 2471, 2478, 2492, 2499, 2506, 2513, 2527, 2534, 2541, 2548, 2562, 2569, 2576, 2583, 2597, 2604, 2611, 2618, 2632, 2639, 2646, 2653, 2667, 2674, 2681, 2688, 2702, 2709, 2716, 2723, 2737, 2744, 2751, 2758, 2772, 2779, 2786, 2793, 2807, 2814, 2821, 2828, 2842, 2849, 2856, 2863, 2877, 2884, 2891, 2898, 2912, 2919, 2926, 2933, 2947, 2954, 2961, 2968, 2982, 2989, 2996, 3003, 3017, 3024, 3031, 3038, 3052, 3059, 3066, 3073, 3087, 3094, 3101, 3108, 3122, 3129, 3136, 3143, 3157, 3164, 3171, 3178, 3192, 3199]\n"
     ]
    }
   ],
   "source": [
    "divisibleBy7()"
   ]
  },
  {
   "cell_type": "markdown",
   "id": "structural-recovery",
   "metadata": {},
   "source": [
    "# Answer for Question 2"
   ]
  },
  {
   "cell_type": "code",
   "execution_count": 47,
   "id": "proprietary-president",
   "metadata": {},
   "outputs": [
    {
     "name": "stdout",
     "output_type": "stream",
     "text": [
      "Please enter first nameJohn\n",
      "Please enter last nameWick\n",
      "After reversing the names Wick  John\n"
     ]
    }
   ],
   "source": [
    "first_name = input('Please enter first name')\n",
    "last_name = input('Please enter last name')\n",
    "\n",
    "print('After reversing the names',last_name,'' ,first_name)"
   ]
  },
  {
   "cell_type": "markdown",
   "id": "relevant-landing",
   "metadata": {},
   "source": [
    "# Answer for Question 3"
   ]
  },
  {
   "cell_type": "code",
   "execution_count": 44,
   "id": "turkish-bradford",
   "metadata": {},
   "outputs": [],
   "source": [
    "import math\n",
    "\n",
    "def volOfSphere(diameter):\n",
    "    \n",
    "    radius = diameter/2\n",
    "    \n",
    "    vol = 4/3 * (math.pi) * (radius ** 3)\n",
    "    \n",
    "    return vol"
   ]
  },
  {
   "cell_type": "code",
   "execution_count": 45,
   "id": "veterinary-pizza",
   "metadata": {},
   "outputs": [
    {
     "name": "stdout",
     "output_type": "stream",
     "text": [
      "The volume of sphere is 904.7786842338603\n"
     ]
    }
   ],
   "source": [
    "print('The volume of sphere is',volOfSphere(12))"
   ]
  },
  {
   "cell_type": "code",
   "execution_count": null,
   "id": "diagnostic-addition",
   "metadata": {},
   "outputs": [],
   "source": []
  }
 ],
 "metadata": {
  "kernelspec": {
   "display_name": "Python 3",
   "language": "python",
   "name": "python3"
  },
  "language_info": {
   "codemirror_mode": {
    "name": "ipython",
    "version": 3
   },
   "file_extension": ".py",
   "mimetype": "text/x-python",
   "name": "python",
   "nbconvert_exporter": "python",
   "pygments_lexer": "ipython3",
   "version": "3.8.5"
  },
  "latex_envs": {
   "LaTeX_envs_menu_present": true,
   "autoclose": false,
   "autocomplete": true,
   "bibliofile": "biblio.bib",
   "cite_by": "apalike",
   "current_citInitial": 1,
   "eqLabelWithNumbers": true,
   "eqNumInitial": 1,
   "hotkeys": {
    "equation": "Ctrl-E",
    "itemize": "Ctrl-I"
   },
   "labels_anchors": false,
   "latex_user_defs": false,
   "report_style_numbering": false,
   "user_envs_cfg": false
  },
  "toc": {
   "base_numbering": 1,
   "nav_menu": {},
   "number_sections": true,
   "sideBar": true,
   "skip_h1_title": false,
   "title_cell": "Table of Contents",
   "title_sidebar": "Contents",
   "toc_cell": false,
   "toc_position": {},
   "toc_section_display": true,
   "toc_window_display": false
  }
 },
 "nbformat": 4,
 "nbformat_minor": 5
}
