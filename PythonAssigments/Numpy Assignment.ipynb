{
 "cells": [
  {
   "cell_type": "markdown",
   "id": "ee11bfa2",
   "metadata": {},
   "source": [
    "Write a function to find moving average in an array over a window:\n",
    "Test it over [3, 5, 7, 2, 8, 10, 11, 65, 72, 81, 99, 100, 150] and window of 3."
   ]
  },
  {
   "cell_type": "markdown",
   "id": "79e43e7d",
   "metadata": {},
   "source": [
    "# Answer"
   ]
  },
  {
   "cell_type": "code",
   "execution_count": 1,
   "id": "4500302e",
   "metadata": {},
   "outputs": [],
   "source": [
    "import numpy as np"
   ]
  },
  {
   "cell_type": "code",
   "execution_count": 31,
   "id": "85426456",
   "metadata": {},
   "outputs": [],
   "source": [
    "array = [3, 5, 7, 2, 8, 10, 11, 65, 72, 81, 99, 100, 150]\n",
    "window_size = 3\n",
    "avg_array=[]"
   ]
  },
  {
   "cell_type": "code",
   "execution_count": 32,
   "id": "52fa1dc4",
   "metadata": {},
   "outputs": [],
   "source": [
    "def finding_the_moving_average():\n",
    "    \n",
    "    for i in range(len(array)):\n",
    "        if i < (len(array)-2):\n",
    "            temp_array=[array[i],array[i+1],array[i+2]] #Since the window size is 3\n",
    "            avg = np.average(temp_array)\n",
    "            avg_array.append(avg.round(2))\n",
    "    print(avg_array)"
   ]
  },
  {
   "cell_type": "code",
   "execution_count": 33,
   "id": "137e18c0",
   "metadata": {},
   "outputs": [
    {
     "name": "stdout",
     "output_type": "stream",
     "text": [
      "[5.0, 4.67, 5.67, 6.67, 9.67, 28.67, 49.33, 72.67, 84.0, 93.33, 116.33]\n"
     ]
    }
   ],
   "source": [
    "finding_the_moving_average()"
   ]
  },
  {
   "cell_type": "code",
   "execution_count": null,
   "id": "c3d3192d",
   "metadata": {},
   "outputs": [],
   "source": []
  }
 ],
 "metadata": {
  "kernelspec": {
   "display_name": "Python 3",
   "language": "python",
   "name": "python3"
  },
  "language_info": {
   "codemirror_mode": {
    "name": "ipython",
    "version": 3
   },
   "file_extension": ".py",
   "mimetype": "text/x-python",
   "name": "python",
   "nbconvert_exporter": "python",
   "pygments_lexer": "ipython3",
   "version": "3.8.5"
  },
  "latex_envs": {
   "LaTeX_envs_menu_present": true,
   "autoclose": false,
   "autocomplete": true,
   "bibliofile": "biblio.bib",
   "cite_by": "apalike",
   "current_citInitial": 1,
   "eqLabelWithNumbers": true,
   "eqNumInitial": 1,
   "hotkeys": {
    "equation": "Ctrl-E",
    "itemize": "Ctrl-I"
   },
   "labels_anchors": false,
   "latex_user_defs": false,
   "report_style_numbering": false,
   "user_envs_cfg": false
  }
 },
 "nbformat": 4,
 "nbformat_minor": 5
}
