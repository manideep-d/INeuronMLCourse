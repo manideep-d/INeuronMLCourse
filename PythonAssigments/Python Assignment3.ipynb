{
 "cells": [
  {
   "cell_type": "markdown",
   "id": "great-wilderness",
   "metadata": {},
   "source": [
    "# Answer for 1.1\n",
    "\n",
    "Write a Python Program to implement your own myreduce() function which works exactly\n",
    "like Python's built-in function reduce()"
   ]
  },
  {
   "cell_type": "code",
   "execution_count": 23,
   "id": "passive-logic",
   "metadata": {},
   "outputs": [],
   "source": [
    "def myreduce(num):\n",
    "    #this produces list of numbers\n",
    "    num_list = list(range(1,num+1))\n",
    "    \n",
    "    #initializing\n",
    "    prod = 1\n",
    "    #Implmenting reduce function\n",
    "    for i in num_list:\n",
    "        prod=  i*prod\n",
    "    \n",
    "    return prod\n",
    "\n",
    "# Import reduce function \n",
    "from functools import reduce\n",
    "\n",
    "def withInbuitReduce(num):\n",
    "    num_list = list(range(1,num+1))\n",
    "    prod_of_elements = reduce((lambda x, y: x * y), num_list)\n",
    "    \n",
    "    return prod_of_elements"
   ]
  },
  {
   "cell_type": "code",
   "execution_count": 25,
   "id": "smoking-senegal",
   "metadata": {},
   "outputs": [
    {
     "name": "stdout",
     "output_type": "stream",
     "text": [
      "Please enter the number12\n",
      "Result without using inbuilt reducer is 479001600\n",
      "Result using inbuilt reducer is 479001600\n"
     ]
    }
   ],
   "source": [
    "num = int(input('Please enter the number'))\n",
    "print(\"Result without using inbuilt reducer is\",myreduce(num))\n",
    "print(\"Result using inbuilt reducer is\",withInbuitReduce(num))\n"
   ]
  },
  {
   "cell_type": "markdown",
   "id": "coastal-oxygen",
   "metadata": {},
   "source": [
    "# Answer for 1.2\n",
    "\n",
    "Write a Python program to implement your own myfilter() function which works exactly\n",
    "like Python's built-in function filter()"
   ]
  },
  {
   "cell_type": "code",
   "execution_count": 34,
   "id": "pediatric-abortion",
   "metadata": {},
   "outputs": [],
   "source": [
    "#This filter will filter the divisible by and not a multiple of 5\n",
    "def myFilter(num):\n",
    "    list_of_num =[]\n",
    "    #this produces list of numbers\n",
    "    num_list = list(range(1,num+1))\n",
    "    for i in num_list:\n",
    "        if (i%7 == 0 and i%5 != 0):\n",
    "            list_of_num.append(i)\n",
    "    return list_of_num\n",
    "\n",
    "def withInbuiltFilter(num):\n",
    "    num_list=list(range(1,num+1))\n",
    "\n",
    "    num_filter_list=list(filter(lambda x: x%7 == 0 and x%5 != 0,num_list))\n",
    "    \n",
    "    return num_filter_list\n"
   ]
  },
  {
   "cell_type": "code",
   "execution_count": 35,
   "id": "competent-eleven",
   "metadata": {},
   "outputs": [
    {
     "name": "stdout",
     "output_type": "stream",
     "text": [
      "Please enter the number100\n",
      "Result without using inbuilt filter is [7, 14, 21, 28, 42, 49, 56, 63, 77, 84, 91, 98]\n",
      "Result with  inbuilt filter is [7, 14, 21, 28, 42, 49, 56, 63, 77, 84, 91, 98]\n"
     ]
    }
   ],
   "source": [
    "num = int(input('Please enter the number'))\n",
    "print(\"Result without using inbuilt filter is\",myFilter(num))\n",
    "print(\"Result with  inbuilt filter is\",withInbuiltFilter(num))\n"
   ]
  },
  {
   "cell_type": "markdown",
   "id": "southwest-storage",
   "metadata": {},
   "source": [
    "# Answer for Question 2\n",
    "Write List comprehensions to produce the following Lists"
   ]
  },
  {
   "cell_type": "code",
   "execution_count": 38,
   "id": "metallic-forum",
   "metadata": {},
   "outputs": [
    {
     "name": "stdout",
     "output_type": "stream",
     "text": [
      "['x', 'xx', 'xxx', 'xxxx', 'y', 'yy', 'yyy', 'yyyy', 'z', 'zz', 'zzz', 'zzzz']\n"
     ]
    }
   ],
   "source": [
    "word=['x','y','z']\n",
    "output = [ x*n for x in word for n in range(1,5)]\n",
    "print(output)"
   ]
  },
  {
   "cell_type": "code",
   "execution_count": 40,
   "id": "perfect-sheriff",
   "metadata": {},
   "outputs": [
    {
     "name": "stdout",
     "output_type": "stream",
     "text": [
      "['x', 'y', 'z', 'xx', 'yy', 'zz', 'xxx', 'yyy', 'zzz', 'xxxx', 'yyyy', 'zzzz']\n"
     ]
    }
   ],
   "source": [
    "word=['x','y','z']\n",
    "output = [ x*n for n in range(1,5) for x in word ]\n",
    "print(output)"
   ]
  },
  {
   "cell_type": "code",
   "execution_count": 46,
   "id": "bibliographic-waterproof",
   "metadata": {},
   "outputs": [
    {
     "name": "stdout",
     "output_type": "stream",
     "text": [
      "[[2], [3], [4], [3], [4], [5], [4], [5], [6]]\n"
     ]
    }
   ],
   "source": [
    "number=[2,3,4]\n",
    "output = [[num+n] for num in number for n in range(0,3) ]\n",
    "print(output)"
   ]
  },
  {
   "cell_type": "code",
   "execution_count": 49,
   "id": "exempt-botswana",
   "metadata": {},
   "outputs": [
    {
     "name": "stdout",
     "output_type": "stream",
     "text": [
      "[[2, 3, 4, 5], [3, 4, 5, 6], [4, 5, 6, 7], [5, 6, 7, 8]]\n"
     ]
    }
   ],
   "source": [
    "number=[2,3,4,5]\n",
    "output = [[x+n for n in range(0,4)] for x in number ]\n",
    "print(output)"
   ]
  },
  {
   "cell_type": "code",
   "execution_count": 52,
   "id": "numerical-affiliation",
   "metadata": {},
   "outputs": [
    {
     "name": "stdout",
     "output_type": "stream",
     "text": [
      "[(1, 1), (2, 1), (3, 1), (1, 2), (2, 2), (3, 2), (1, 3), (2, 3), (3, 3)]\n"
     ]
    }
   ],
   "source": [
    "number= 1\n",
    "output = [(i,n) for n in range(1,4) for i in range(1,4) ]\n",
    "print(output)"
   ]
  },
  {
   "cell_type": "code",
   "execution_count": null,
   "id": "congressional-virus",
   "metadata": {},
   "outputs": [],
   "source": []
  },
  {
   "cell_type": "code",
   "execution_count": null,
   "id": "affected-cherry",
   "metadata": {},
   "outputs": [],
   "source": []
  }
 ],
 "metadata": {
  "kernelspec": {
   "display_name": "Python 3",
   "language": "python",
   "name": "python3"
  },
  "language_info": {
   "codemirror_mode": {
    "name": "ipython",
    "version": 3
   },
   "file_extension": ".py",
   "mimetype": "text/x-python",
   "name": "python",
   "nbconvert_exporter": "python",
   "pygments_lexer": "ipython3",
   "version": "3.8.5"
  },
  "latex_envs": {
   "LaTeX_envs_menu_present": true,
   "autoclose": false,
   "autocomplete": true,
   "bibliofile": "biblio.bib",
   "cite_by": "apalike",
   "current_citInitial": 1,
   "eqLabelWithNumbers": true,
   "eqNumInitial": 1,
   "hotkeys": {
    "equation": "Ctrl-E",
    "itemize": "Ctrl-I"
   },
   "labels_anchors": false,
   "latex_user_defs": false,
   "report_style_numbering": false,
   "user_envs_cfg": false
  }
 },
 "nbformat": 4,
 "nbformat_minor": 5
}
