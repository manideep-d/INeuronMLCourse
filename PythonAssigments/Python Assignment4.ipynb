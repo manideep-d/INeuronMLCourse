{
 "cells": [
  {
   "cell_type": "markdown",
   "id": "english-smooth",
   "metadata": {},
   "source": [
    "# Answer for 1.1\n",
    "\n",
    "1.1 Write a Python Program(with class concepts) to find the area of the triangle using the below\n",
    "formula.\n",
    "area = (s*(s-a)*(s-b)*(s-c)) ** 0.5\n",
    "Function to take the length of the sides of triangle from user should be defined in the parent\n",
    "class and function to calculate the area should be defined in subclass."
   ]
  },
  {
   "cell_type": "code",
   "execution_count": 26,
   "id": "prescribed-copyright",
   "metadata": {},
   "outputs": [],
   "source": [
    "class TraingleSide:\n",
    "        \n",
    "    def inputSidesLengths(self):\n",
    "       \n",
    "        a = int(input('Enter the first side length'))\n",
    "       \n",
    "        b = int(input('Enter the second side length')) \n",
    "        \n",
    "        c = int(input('Enter the third side length'))\n",
    "        \n",
    "        return a,b,c"
   ]
  },
  {
   "cell_type": "code",
   "execution_count": 29,
   "id": "closing-graph",
   "metadata": {},
   "outputs": [],
   "source": [
    "class Area(TraingleSide):\n",
    "    \n",
    "    def findingArea(self):\n",
    "        \n",
    "        a,b,c = TraingleSide.inputSidesLengths(self)\n",
    "        \n",
    "        s = (a+b+c) * 0.5\n",
    "        \n",
    "        area = (s*(s-a)*(s-b)*(s-c)) ** 0.5\n",
    "        \n",
    "        print('The area of a triangle is',area)"
   ]
  },
  {
   "cell_type": "code",
   "execution_count": 32,
   "id": "possible-suggestion",
   "metadata": {},
   "outputs": [
    {
     "name": "stdout",
     "output_type": "stream",
     "text": [
      "Enter the first side length2\n",
      "Enter the second side length5\n",
      "Enter the third side length6\n",
      "The area of a triangle is 4.683748498798798\n"
     ]
    }
   ],
   "source": [
    "#Object creation\n",
    "area = Area()\n",
    "\n",
    "area.findingArea()"
   ]
  },
  {
   "cell_type": "markdown",
   "id": "hundred-tribune",
   "metadata": {},
   "source": [
    "# Answer for 1.2\n",
    "\n",
    "1.2 Write a function filter_long_words() that takes a list of words and an integer n and returns\n",
    "the list of words that are longer than n."
   ]
  },
  {
   "cell_type": "code",
   "execution_count": 54,
   "id": "silent-theology",
   "metadata": {},
   "outputs": [],
   "source": [
    "def filter_long_words():\n",
    "    \n",
    "    words = input('Enter list of words:')\n",
    "    \n",
    "    list_of_words = list(words.split(\",\"))\n",
    "    \n",
    "    n = int(input('Enter the lenght of a word:  '))\n",
    "    \n",
    "    filtered_words = [ word for word in list_of_words if len(word)>n ]\n",
    "    \n",
    "    print('The lenght of words greater than',n,'are',filtered_words)"
   ]
  },
  {
   "cell_type": "code",
   "execution_count": 56,
   "id": "statistical-breakdown",
   "metadata": {},
   "outputs": [
    {
     "name": "stdout",
     "output_type": "stream",
     "text": [
      "Enter list of words:Hyderabad,US,Canada,UK,London\n",
      "Enter the lenght of a word:  5\n",
      "The lenght of words greater than 5 are ['Hyderabad', 'Canada', 'London']\n"
     ]
    }
   ],
   "source": [
    "filter_long_words()"
   ]
  },
  {
   "cell_type": "markdown",
   "id": "reasonable-romance",
   "metadata": {},
   "source": [
    "# Answer for 2.1\n",
    "\n",
    "Write a Python program using function concept that maps list of words into a list of integers\n",
    "representing the lengths of the corresponding words."
   ]
  },
  {
   "cell_type": "code",
   "execution_count": 57,
   "id": "olympic-finance",
   "metadata": {},
   "outputs": [],
   "source": [
    "def mappingWordsToLength():\n",
    "    \n",
    "    words = input('Enter list of words:')\n",
    "    \n",
    "    list_of_words = list(words.split(\",\"))\n",
    "    \n",
    "    len_of_words = [ len(word) for word in list_of_words ]\n",
    "    \n",
    "    return len_of_words\n",
    "    "
   ]
  },
  {
   "cell_type": "code",
   "execution_count": 58,
   "id": "greek-architect",
   "metadata": {},
   "outputs": [
    {
     "name": "stdout",
     "output_type": "stream",
     "text": [
      "Enter list of words:Hyderabad,US,Canada,UK,London\n"
     ]
    },
    {
     "data": {
      "text/plain": [
       "[9, 2, 6, 2, 6]"
      ]
     },
     "execution_count": 58,
     "metadata": {},
     "output_type": "execute_result"
    }
   ],
   "source": [
    "mappingWordsToLength()"
   ]
  },
  {
   "cell_type": "markdown",
   "id": "controlled-print",
   "metadata": {},
   "source": [
    "# Answer for 2.2\n",
    "\n",
    "Write a Python function which takes a character (i.e. a string of length 1) and returns True if\n",
    "it is a vowel, False otherwise.\n",
    "\n"
   ]
  },
  {
   "cell_type": "code",
   "execution_count": 85,
   "id": "norman-chicken",
   "metadata": {},
   "outputs": [],
   "source": [
    "def findingVowel():\n",
    "    \n",
    "    character = input('Enter any(only 1 character) character:')\n",
    "    character = character.lower()\n",
    "    \n",
    "    vowels=['a','e','i','o','u']\n",
    "    \n",
    "    if (character in vowels):\n",
    "        print('Yes,' ,character, 'is a vowel')\n",
    "    else:\n",
    "        print('No,' ,character, 'is not a vowel')\n"
   ]
  },
  {
   "cell_type": "code",
   "execution_count": 86,
   "id": "enabling-hebrew",
   "metadata": {},
   "outputs": [
    {
     "name": "stdout",
     "output_type": "stream",
     "text": [
      "Enter any(only 1 character) character:o\n",
      "Yes, o is a vowel\n"
     ]
    }
   ],
   "source": [
    "findingVowel()"
   ]
  }
 ],
 "metadata": {
  "kernelspec": {
   "display_name": "Python 3",
   "language": "python",
   "name": "python3"
  },
  "language_info": {
   "codemirror_mode": {
    "name": "ipython",
    "version": 3
   },
   "file_extension": ".py",
   "mimetype": "text/x-python",
   "name": "python",
   "nbconvert_exporter": "python",
   "pygments_lexer": "ipython3",
   "version": "3.8.5"
  },
  "latex_envs": {
   "LaTeX_envs_menu_present": true,
   "autoclose": false,
   "autocomplete": true,
   "bibliofile": "biblio.bib",
   "cite_by": "apalike",
   "current_citInitial": 1,
   "eqLabelWithNumbers": true,
   "eqNumInitial": 1,
   "hotkeys": {
    "equation": "Ctrl-E",
    "itemize": "Ctrl-I"
   },
   "labels_anchors": false,
   "latex_user_defs": false,
   "report_style_numbering": false,
   "user_envs_cfg": false
  }
 },
 "nbformat": 4,
 "nbformat_minor": 5
}
